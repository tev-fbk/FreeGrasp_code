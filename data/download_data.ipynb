{
 "cells": [
  {
   "cell_type": "code",
   "execution_count": null,
   "metadata": {},
   "outputs": [],
   "source": [
    "# Download dataset\n",
    "https://huggingface.co/datasets/FBK-TeV/FreeGraspData/resolve/main/data/train-00000-of-00002.parquet?download=true\n",
    "https://huggingface.co/datasets/FBK-TeV/FreeGraspData/resolve/main/data/train-00001-of-00002.parquet?download=true\n"
   ]
  },
  {
   "cell_type": "code",
   "execution_count": null,
   "metadata": {},
   "outputs": [],
   "source": [
    "!pip install pandas pyarrow pillow"
   ]
  },
  {
   "cell_type": "code",
   "execution_count": null,
   "metadata": {},
   "outputs": [],
   "source": [
    "import pandas as pd\n",
    "\n",
    "# Load both Parquet files\n",
    "df1 = pd.read_parquet('train-00000-of-00002.parquet')\n",
    "df2 = pd.read_parquet('train-00001-of-00002.parquet')\n",
    "\n",
    "# Concatenate them into a single DataFrame\n",
    "df = pd.concat([df1, df2], ignore_index=True)\n",
    "\n",
    "# View basic information\n",
    "print(df.info())\n",
    "print(\"______________________________________________________________________\")\n",
    "print(df.head())\n"
   ]
  },
  {
   "cell_type": "code",
   "execution_count": null,
   "metadata": {},
   "outputs": [],
   "source": [
    "# Total number of test objects\n",
    "print(f\"Total number of test objects: {len(df['queryObjId'])}\")\n",
    "\n",
    "# Total number of test scenes\n",
    "a = df['sceneId'].unique()\n",
    "print(f\"Total number of test scenes: {len(a)}\")\n",
    "print(a)"
   ]
  },
  {
   "cell_type": "code",
   "execution_count": null,
   "metadata": {},
   "outputs": [],
   "source": [
    "# 6 sets of FreeGraspData\n",
    "print(df.groupby(['difficulty', 'ambiguious']).size())"
   ]
  },
  {
   "cell_type": "code",
   "execution_count": null,
   "metadata": {},
   "outputs": [],
   "source": [
    "# 6 sets of FreeGraspData\n",
    "easy_no_ambi = df[(df['difficulty'] == 'Easy') & (df['ambiguious'] == False)]\n",
    "easy_yes_ambi = df[(df['difficulty'] == 'Easy') & (df['ambiguious'] == True)]\n",
    "medium_no_ambi = df[(df['difficulty'] == 'Medium') & (df['ambiguious'] == False)]\n",
    "medium_yes_ambi = df[(df['difficulty'] == 'Medium') & (df['ambiguious'] == True)]\n",
    "hard_no_ambi = df[(df['difficulty'] == 'Hard') & (df['ambiguious'] == False)]\n",
    "hard_yes_ambi = df[(df['difficulty'] == 'Hard') & (df['ambiguious'] == True)]\n",
    "\n",
    "# Number of test objects\n",
    "print(len(easy_no_ambi[\"queryObjId\"]))\n",
    "print(len(easy_no_ambi[\"sceneId\"].unique()))\n",
    "# print(len(easy_yes_ambi[\"sceneId\"].unique()))\n",
    "# print(len(medium_no_ambi[\"sceneId\"].unique()))\n",
    "# print(len(medium_yes_ambi[\"sceneId\"].unique()))\n",
    "# print(len(hard_no_ambi[\"sceneId\"].unique()))\n",
    "# print(len(hard_yes_ambi[\"sceneId\"].unique()))"
   ]
  },
  {
   "cell_type": "code",
   "execution_count": null,
   "metadata": {},
   "outputs": [],
   "source": [
    "# Check the list of subset\n",
    "easy_no_ambi.head()"
   ]
  },
  {
   "cell_type": "code",
   "execution_count": null,
   "metadata": {},
   "outputs": [],
   "source": [
    "# Visualize image of example 4 (__index_level_0__)\n",
    "from PIL import Image\n",
    "import io\n",
    "from IPython.display import display\n",
    "\n",
    "print(f'Free-form human instruction: {easy_no_ambi.loc[4, \"annotation\"]}')\n",
    "\n",
    "# Decode and display the image\n",
    "image_data = easy_no_ambi.loc[4, 'image']['bytes']\n",
    "image = Image.open(io.BytesIO(image_data))\n",
    "display(image)"
   ]
  },
  {
   "cell_type": "code",
   "execution_count": null,
   "metadata": {},
   "outputs": [],
   "source": [
    "# Example for check info based on sceneId\n",
    "df['sceneId'] = df['sceneId'].astype(str).str.strip()\n",
    "a = df[df['sceneId'] == '1961']\n",
    "print(a)"
   ]
  }
 ],
 "metadata": {
  "kernelspec": {
   "display_name": "freegrasp",
   "language": "python",
   "name": "python3"
  },
  "language_info": {
   "codemirror_mode": {
    "name": "ipython",
    "version": 3
   },
   "file_extension": ".py",
   "mimetype": "text/x-python",
   "name": "python",
   "nbconvert_exporter": "python",
   "pygments_lexer": "ipython3",
   "version": "3.10.18"
  }
 },
 "nbformat": 4,
 "nbformat_minor": 2
}
